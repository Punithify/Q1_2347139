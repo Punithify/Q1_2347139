{
 "cells": [
  {
   "cell_type": "markdown",
   "metadata": {},
   "source": [
    "1.LIST\n",
    "Write a PYTHON script with List comprehension for the following\n",
    "• Is the given list divisible by 3 or NOT?"
   ]
  },
  {
   "cell_type": "code",
   "execution_count": 7,
   "metadata": {},
   "outputs": [
    {
     "name": "stdout",
     "output_type": "stream",
     "text": [
      "random List :  [2, 3, 4, 5, 6, 7, 8, 9, 10, 11, 12, 13, 14]\n",
      "numbers divisible by 3 are :  [3, 6, 9, 12]\n"
     ]
    }
   ],
   "source": [
    "randList = []\n",
    "[randList.append(i) for i in range(2, 15)]\n",
    "print(\"random List : \",randList)\n",
    "divisibleList = []\n",
    "[divisibleList.append(num) if (num % 3 == 0) else [] for num in randList]\n",
    "print(\"numbers divisible by 3 are : \", divisibleList)"
   ]
  },
  {
   "cell_type": "markdown",
   "metadata": {},
   "source": [
    "• Square of even numbers in a list"
   ]
  },
  {
   "cell_type": "code",
   "execution_count": 6,
   "metadata": {},
   "outputs": [
    {
     "name": "stdout",
     "output_type": "stream",
     "text": [
      "Sample List :  [2, 3, 4, 5, 6, 7, 8, 9, 10, 11, 12, 13, 14]\n",
      "List of squares [4, 9, 16, 25, 36, 49, 64, 81, 100, 121, 144, 169, 196]\n"
     ]
    }
   ],
   "source": [
    "randList = []\n",
    "[randList.append(i) for i in range(2, 15)]\n",
    "print(\"Sample List : \",randList)\n",
    "squares = []\n",
    "[squares.append(x**2) for x in randList]\n",
    "print(\"List of squares\", squares)"
   ]
  },
  {
   "cell_type": "markdown",
   "metadata": {},
   "source": [
    "• Sum of digits of all EVEN numbers in a list"
   ]
  },
  {
   "cell_type": "code",
   "execution_count": 5,
   "metadata": {},
   "outputs": [
    {
     "name": "stdout",
     "output_type": "stream",
     "text": [
      "Even List :  [2, 4, 6, 8, 10, 12, 14]\n",
      "Sum of evenlist :  56\n"
     ]
    }
   ],
   "source": [
    "randList = []\n",
    "[randList.append(i) for i in range(2, 15)]\n",
    "evenList = []\n",
    "[evenList.append(i) if (i % 2 == 0) else [] for i in randList]\n",
    "print(\"Even List : \", evenList)\n",
    "sum = 0\n",
    "[sum := sum+i for i in evenList]\n",
    "print(\"Sum of evenlist : \", sum)"
   ]
  },
  {
   "cell_type": "markdown",
   "metadata": {},
   "source": [
    "• Remove duplicate numbers in a list"
   ]
  },
  {
   "cell_type": "code",
   "execution_count": 3,
   "metadata": {},
   "outputs": [
    {
     "name": "stdout",
     "output_type": "stream",
     "text": [
      "List with duplicate values :  [1, 5, 57, 0, 7, 7]\n",
      "Sorted List :  [0, 1, 5, 7, 57]\n"
     ]
    }
   ],
   "source": [
    "reapList = [1, 5, 57, 0, 7, 7]\n",
    "print(\"List with duplicate values : \", reapList)\n",
    "print(\"Sorted List : \", sorted(list(set(reapList))))"
   ]
  },
  {
   "cell_type": "markdown",
   "metadata": {},
   "source": [
    "2.Dictionary\n",
    "Create a dictionary to store the details of your user details (name as key and\n",
    "user-type as value).\n",
    "users = {\"bob\": \"admin\", \"rob\": \"user 2FA\", \"jack\":\n",
    "         \"user\", \"jim\": \"user\"}"
   ]
  },
  {
   "cell_type": "code",
   "execution_count": 2,
   "metadata": {},
   "outputs": [
    {
     "name": "stdout",
     "output_type": "stream",
     "text": [
      "Users on the platform : {'bob': 'admin', 'rob': 'user 2FA', 'jack': 'user', 'jim': 'user'}\n",
      "bob is a : admin\n"
     ]
    }
   ],
   "source": [
    "users = {\"bob\": \"admin\", \"rob\": \"user 2FA\", \"jack\":\n",
    "         \"user\", \"jim\": \"user\"}\n",
    "print(\"Users on the platform :\", users)\n",
    "def userType(name):\n",
    "    print(name, \"is a :\", users.get(name))\n",
    "\n",
    "userType(\"bob\")"
   ]
  }
 ],
 "metadata": {
  "kernelspec": {
   "display_name": "Python 3",
   "language": "python",
   "name": "python3"
  },
  "language_info": {
   "codemirror_mode": {
    "name": "ipython",
    "version": 3
   },
   "file_extension": ".py",
   "mimetype": "text/x-python",
   "name": "python",
   "nbconvert_exporter": "python",
   "pygments_lexer": "ipython3",
   "version": "3.10.6"
  },
  "orig_nbformat": 4
 },
 "nbformat": 4,
 "nbformat_minor": 2
}
